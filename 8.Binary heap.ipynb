{
 "cells": [
  {
   "cell_type": "markdown",
   "metadata": {},
   "source": [
    "# 概念\n",
    "实现优先级队列的经典方法是使用称为二叉堆的数据结构。二叉堆将允许我们在 $O(logn)$ 中排队和取出队列。二叉堆是很有趣的研究，因为堆看起来很像一棵树，但是当我们实现它时，我们只使用一个单一的列表作为内部表示。二叉堆有两个常见的变体：最小堆（其中最小的键总是在前面）和最大堆（其中最大的键值总是在前面）。在本节中，我们将实现最小堆。我们将最大堆实现作为练习。\n"
   ]
  },
  {
   "cell_type": "markdown",
   "metadata": {},
   "source": [
    "# 二叉堆抽象数据类型\n",
    "- BinaryHeap() 创建一个新的，空的二叉堆。\n",
    "- insert(k) 向堆添加一个新项。\n",
    "- findMin() 返回具有最小键值的项，并将项留在堆中。\n",
    "- delMin() 返回具有最小键值的项，从堆中删除该项。\n",
    "- 如果堆是空的，isEmpty() 返回 true，否则返回 false。\n",
    "- size() 返回堆中的项数。\n",
    "- buildHeap(list) 从键列表构建一个新的堆。"
   ]
  },
  {
   "cell_type": "markdown",
   "metadata": {},
   "source": [
    "# 二叉堆实现\n",
    "为了使堆操作高效运行，我们将利用二叉树的操作复杂度为对数级这一性质来实现堆操作。同时，为了使堆操作的复杂度始终保持在对数水平上，就必须始终保持二叉树的“平衡”。平衡的二叉树树根左右子树有着相同数量的节点。在我们的堆实现中，我们采用“完全二叉树”的结构来近似实现“平衡”。完全二叉树，指每个内部节点都有两个子节点，最多最底层最右边可有一个节点例外。\n",
    "<img src='19.png' style='width:600px,height:300px'>\n",
    "完全树的另一个有趣的特性是我们能用单个列表来实现完全树而不需要使用节点，引用或嵌套列表。因为对于完全树，如果节点在列表中的位置为p，那么其左子节点的位置为2p，类似的，其右子节点的位置为2p+1。当我们要找任意节点的父节点时，可以直接利用python的整数除法。若节点在列表中的位置为n，那么父节点的位置是n//2。\n",
    "<img src='20.png' style='width:600px,height:300px'>\n",
    "我们用于堆中存储项的方法依赖于维护堆的排序属性。 堆的排序属性如下：在堆中，对于具\n",
    "有父 p 的每个节点 x，p 中的键小于或等于 x 中的键。\n",
    "\n",
    "接下来我们开始利用构造函数来实现二叉堆。因为可以采用一个列表来保存堆数据，构造函数仅仅需要初始化一个列表和一个currentSize来跟踪记录堆当前的大小。其中表首下标为0的项并没有用到，但为了后面代码可以用到简单的整数乘除法，仍保留它。"
   ]
  },
  {
   "cell_type": "code",
   "execution_count": 5,
   "metadata": {},
   "outputs": [
    {
     "name": "stdout",
     "output_type": "stream",
     "text": [
      "None\n",
      "1\n",
      "2\n",
      "3\n",
      "4\n",
      "5\n"
     ]
    }
   ],
   "source": [
    "class BinHeap:\n",
    "    def __init__(self):\n",
    "        self.heapList = [0]\n",
    "        self.currentSize = 0\n",
    "\n",
    "##########################################\n",
    "    def percUp(self,i):\n",
    "        while i // 2 > 0:\n",
    "           if self.heapList[i] < self.heapList[i // 2]:\n",
    "               tmp = self.heapList[i // 2]\n",
    "               self.heapList[i // 2] = self.heapList[i]\n",
    "               self.heapList[i] = tmp\n",
    "           i = i // 2\n",
    "    def insert(self,k):\n",
    "        self.heapList.append(k)\n",
    "        self.currentSize = self.currentSize + 1\n",
    "        self.percUp(self.currentSize)\n",
    "###########################################\n",
    "\n",
    "#-------------------------------------------#\n",
    "    def percDown(self,i):#交换子父节点\n",
    "        while (i * 2) <= self.currentSize:\n",
    "           mc = self.minChild(i)\n",
    "           if self.heapList[i] > self.heapList[mc]:\n",
    "                self.heapList[i],self.heapList[mc]=self.heapList[mc],self.heapList[i]\n",
    "\n",
    "           i = mc\n",
    "    def minChild(self,i):#寻找值最小的子节点\n",
    "       if i * 2 + 1 > self.currentSize:\n",
    "          return i * 2\n",
    "       else:\n",
    "          if self.heapList[i*2] < self.heapList[i*2+1]:\n",
    "              return i * 2\n",
    "          else:\n",
    "              return i * 2 + 1\n",
    "    def delMin(self):\n",
    "        #去掉跟之后，先将最末端的叶放在根位置，然后慢慢交换。\n",
    "      retval = self.heapList[1]\n",
    "      self.heapList[1] = self.heapList[self.currentSize]\n",
    "      self.currentSize = self.currentSize - 1\n",
    "      self.heapList.pop()\n",
    "      self.percDown(1)\n",
    "      return retval\n",
    "#-------------------------------------------#\n",
    "    \n",
    "    def buildHeap(self,alist):\n",
    "      i = len(alist) // 2\n",
    "      self.currentSize = len(alist)\n",
    "      self.heapList = [0] + alist[:]\n",
    "      while (i > 0):\n",
    "          self.percDown(i)\n",
    "          i = i - 1\n",
    "\n",
    "bh = BinHeap()\n",
    "print(bh.buildHeap([9,5,6,2,3,7,1,8,4]))\n",
    "\n",
    "print(bh.delMin())\n",
    "print(bh.delMin())\n",
    "print(bh.delMin())\n",
    "print(bh.delMin())\n",
    "print(bh.delMin())\n",
    "\n"
   ]
  },
  {
   "cell_type": "code",
   "execution_count": 6,
   "metadata": {},
   "outputs": [
    {
     "data": {
      "text/plain": [
       "<__main__.BinHeap at 0x182e984b828>"
      ]
     },
     "execution_count": 6,
     "metadata": {},
     "output_type": "execute_result"
    }
   ],
   "source": [
    "bh"
   ]
  },
  {
   "cell_type": "code",
   "execution_count": null,
   "metadata": {},
   "outputs": [],
   "source": []
  }
 ],
 "metadata": {
  "kernelspec": {
   "display_name": "Python 3",
   "language": "python",
   "name": "python3"
  },
  "language_info": {
   "codemirror_mode": {
    "name": "ipython",
    "version": 3
   },
   "file_extension": ".py",
   "mimetype": "text/x-python",
   "name": "python",
   "nbconvert_exporter": "python",
   "pygments_lexer": "ipython3",
   "version": "3.7.3"
  },
  "toc": {
   "base_numbering": 1,
   "nav_menu": {},
   "number_sections": true,
   "sideBar": true,
   "skip_h1_title": false,
   "title_cell": "Table of Contents",
   "title_sidebar": "Contents",
   "toc_cell": false,
   "toc_position": {},
   "toc_section_display": true,
   "toc_window_display": false
  },
  "varInspector": {
   "cols": {
    "lenName": 16,
    "lenType": 16,
    "lenVar": 40
   },
   "kernels_config": {
    "python": {
     "delete_cmd_postfix": "",
     "delete_cmd_prefix": "del ",
     "library": "var_list.py",
     "varRefreshCmd": "print(var_dic_list())"
    },
    "r": {
     "delete_cmd_postfix": ") ",
     "delete_cmd_prefix": "rm(",
     "library": "var_list.r",
     "varRefreshCmd": "cat(var_dic_list()) "
    }
   },
   "types_to_exclude": [
    "module",
    "function",
    "builtin_function_or_method",
    "instance",
    "_Feature"
   ],
   "window_display": false
  }
 },
 "nbformat": 4,
 "nbformat_minor": 2
}
