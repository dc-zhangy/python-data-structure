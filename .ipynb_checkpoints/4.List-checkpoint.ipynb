{
 "cells": [
  {
   "cell_type": "markdown",
   "metadata": {},
   "source": [
    "# 概念\n",
    "**在整个基本数据结构的讨论中，我们使用了Python 列表来实现抽象数据类型。列表是一个功能强大而简单的收集容器，并为程序员提供了各种各样的操作。然而， 并非所有的编程语言都有内置的list 列表类型。在这些情况下，程序员必须自己来实现列表。**\n",
    "\n",
    "**列表是一些元素的集合，每个元素拥有一个与其它元素不同的相对位置。更具体地说，我们把这种类型的列表称为一个无序列表。我们可以认为列表有第一项、第二项、第三项……也可以索引到列表的开始（第一项）或列表的最后（最后一项）。为简单起见，我们假设列表不能包含重复项。**"
   ]
  },
  {
   "cell_type": "markdown",
   "metadata": {},
   "source": [
    "# 无序列表抽象数据类型\n",
    "- List() 创建一个新的空列表。它不需要参数，并返回一个空列表。\n",
    "- add(item) 向列表中添加一个新项。它需要 item 作为参数，并不返回任何内容。假定该\n",
    "- item 不在列表中。\n",
    "- remove(item) 从列表中删除该项。它需要 item 作为参数并修改列表。假设项存在于列表\n",
    "中。\n",
    "- search(item) 搜索列表中的项目。它需要 item 作为参数，并返回一个布尔值。\n",
    "- isEmpty() 检查列表是否为空。它不需要参数，并返回布尔值。\n",
    "- size（）返回列表中的项数。它不需要参数，并返回一个整数。\n",
    "- append(item) 将一个新项添加到列表的末尾，使其成为集合中的最后一项。它需要 item作为参数，并不返回任何内容。假定该项不在列表中。\n",
    "- index(item) 返回项在列表中的位置。它需要 item 作为参数并返回索引。假定该项在列表中。\n",
    "- insert(pos，item) 在位置 pos 处向列表中添加一个新项。它需要 item 作为参数并不返回任何内容。假设该项不在列表中，并且有足够的现有项使其有 pos 的位置。\n",
    "- pop() 删除并返回列表中的最后一个项。假设该列表至少有一个项。\n",
    "- pop(pos) 删除并返回位置 pos 处的项。它需要 pos 作为参数并返回项。假定该项在列表中。\n"
   ]
  },
  {
   "cell_type": "markdown",
   "metadata": {},
   "source": [
    "# 实现无序列表：链表\n",
    "为了实现无序列表，我们将构建一个链表。回想一下，我们需要确保元素的相对位置正确。然而，我们无需使用连续的内存来定位链表中的元素。例如，考虑下图中显示的项的集合。看起来这些值已被随机放置。如果我们可以在每个项目保持一些明确的信息，即下一个项目的位置，那么每个项目的相对位置就可以通过以下简单的链接从一个项目到下一个来确定。\n",
    "<img src='18.png' style='width:600px;height:400px'>\n",
    "需要注意的是，该列表的第一项的位置必须被明确指出。一旦我们知道第一项是什么，第一项\n",
    "就可以告诉我们第二项是什么，以此类推。从外部指向的第一项通常被称为链表的头。同样地，链\n",
    "表的最后一项需要告诉我们有没有下一个项目。"
   ]
  },
  {
   "cell_type": "markdown",
   "metadata": {},
   "source": [
    "## 节点Node类\n",
    "用链表实现的基本模块是节点。每个节点对象必须持有至少两条信息。首先，节点必须包含列表元素本身。此外，每个节点必须保持到下一个节点的引用。节点类还包括访问和修改的常用方法：返回节点数据和引用到下一项。"
   ]
  },
  {
   "cell_type": "code",
   "execution_count": 1,
   "metadata": {},
   "outputs": [
    {
     "data": {
      "text/plain": [
       "90"
      ]
     },
     "execution_count": 1,
     "metadata": {},
     "output_type": "execute_result"
    }
   ],
   "source": [
    "class Node:\n",
    "    def __init__(self,initdata):\n",
    "        self.data=initdata\n",
    "        self.next=None\n",
    "    def getData(self):\n",
    "        return self.data\n",
    "    def getNext(self):\n",
    "        return self.next\n",
    "    def setData(self,newdata):\n",
    "        self.data=newdata\n",
    "    def setNext(self,newnext):\n",
    "        self.next=newnext\n",
    "\n",
    "temp=Node(93)\n",
    "temp.getData()\n",
    "#temp.setNext(50)\n",
    "temp.setNext(90)\n",
    "temp.getNext()"
   ]
  },
  {
   "cell_type": "markdown",
   "metadata": {},
   "source": [
    "## Unordered List 类\n",
    "UnorderedList 类必须保持一个对第一节点的引用"
   ]
  },
  {
   "cell_type": "code",
   "execution_count": 2,
   "metadata": {},
   "outputs": [],
   "source": [
    "class UnorderedList:\n",
    "    def __init__(self):\n",
    "        self.head = None\n",
    "    def isEmpty(self):\n",
    "        return self.head == None\n",
    "    def add(self,item):\n",
    "        temp = Node(item)\n",
    "        temp.setNext(self.head)\n",
    "        self.head = temp\n",
    "        \n",
    "    def size(self):\n",
    "        current = self.head\n",
    "        count = 0\n",
    "        while current != None:\n",
    "            count = count + 1\n",
    "            current = current.getNext()\n",
    "        return count\n",
    "    \n",
    "    def search(self,item):\n",
    "        current = self.head\n",
    "        found = False\n",
    "        while current != None and not found:\n",
    "            if current.getData() == item:\n",
    "                 found = True\n",
    "            else:\n",
    "                 current = current.getNext()\n",
    "        return found\n",
    "    \n",
    "    def remove(self,item):\n",
    "        current = self.head\n",
    "        previous = None\n",
    "        found = False\n",
    "        while not found:\n",
    "            if current.getData() == item:\n",
    "                   found = True\n",
    "            else:\n",
    "                   previous = current\n",
    "                   current = current.getNext()\n",
    "        if previous == None:\n",
    "            self.head = current.getNext()\n",
    "        else:\n",
    "            previous.setNext(current.getNext())"
   ]
  },
  {
   "cell_type": "code",
   "execution_count": 3,
   "metadata": {},
   "outputs": [
    {
     "name": "stdout",
     "output_type": "stream",
     "text": [
      "6\n",
      "True\n",
      "None\n"
     ]
    }
   ],
   "source": [
    "mylist = UnorderedList()\n",
    "mylist.add(31)\n",
    "mylist.add(77)\n",
    "mylist.add(17)\n",
    "mylist.add(93)\n",
    "mylist.add(26)\n",
    "mylist.add(54)\n",
    "print(mylist.size())\n",
    "print(mylist.search(17))\n",
    "print(mylist.remove(77))"
   ]
  },
  {
   "cell_type": "markdown",
   "metadata": {},
   "source": [
    "# 有序列表抽象数据结构\n",
    "- OrderedList() 创建一个新的空列表。它不需要参数，并返回一个空列表。\n",
    "- add(item) 向列表中添加一个新项。它需要 item 作为参数，并不返回任何内容。假定该item 不在列表中。\n",
    "- remove(item) 从列表中删除该项。它需要 item 作为参数并修改列表。假设项存在于列表中。\n",
    "- search(item) 搜索列表中的项目。它需要 item 作为参数，并返回一个布尔值。\n",
    "- isEmpty() 检查列表是否为空。它不需要参数，并返回布尔值。\n",
    "- size（）返回列表中的项数。它不需要参数，并返回一个整数。\n",
    "- index(item) 返回项在列表中的位置。它需要 item 作为参数并返回索引。假定该项在列表中。\n",
    "- pop() 删除并返回列表中的最后一个项。假设该列表至少有一个项。\n",
    "- pop(pos) 删除并返回位置 pos 处的项。它需要 pos 作为参数并返回项。假定该项在列表中。"
   ]
  },
  {
   "cell_type": "markdown",
   "metadata": {},
   "source": [
    "# 实现有序列表\n",
    "当我们考虑有序列表的操作时，我们应该注意，isEmpty和size方法可以与无序列表一样实现，因为它们只处理链表中的节点数量，而不考虑实际项值。同样,remove方法将正常工作，因为我们仍然需要找到该项，然后删除它。剩下的两个方法,search和add，将需要一些修改。"
   ]
  },
  {
   "cell_type": "code",
   "execution_count": 6,
   "metadata": {},
   "outputs": [],
   "source": [
    "class OrderedList:\n",
    "    def __init__(self):\n",
    "        self.head = None\n",
    "    def search(self,item):\n",
    "        current=self.head\n",
    "        found=False\n",
    "        stop=False\n",
    "        while current!=None and not found and not stop:\n",
    "            if current.getData()== item:\n",
    "                found=True\n",
    "            else:\n",
    "                if current.getData()>item:\n",
    "                    stop= True\n",
    "                else:\n",
    "                    current=current.getNext()\n",
    "        return found\n",
    "    \n",
    "    def add(self,item):\n",
    "        current=self.head\n",
    "        previous=None\n",
    "        stop=False\n",
    "        while current!=None and not stop:\n",
    "            if current.getData()>item:\n",
    "                stop=True\n",
    "            else:\n",
    "                previous=current\n",
    "                current=current.getNext()\n",
    "                \n",
    "            temp=Node(item)\n",
    "            if previous==None:\n",
    "                temp.setNext(self.head)\n",
    "                self.head=temp\n",
    "            else:\n",
    "                temp.setNext(current)\n",
    "                previous.setNext(temp)\n",
    "                \n",
    "        "
   ]
  },
  {
   "cell_type": "code",
   "execution_count": null,
   "metadata": {},
   "outputs": [],
   "source": []
  }
 ],
 "metadata": {
  "kernelspec": {
   "display_name": "Python 3",
   "language": "python",
   "name": "python3"
  },
  "language_info": {
   "codemirror_mode": {
    "name": "ipython",
    "version": 3
   },
   "file_extension": ".py",
   "mimetype": "text/x-python",
   "name": "python",
   "nbconvert_exporter": "python",
   "pygments_lexer": "ipython3",
   "version": "3.7.3"
  },
  "toc": {
   "base_numbering": 1,
   "nav_menu": {},
   "number_sections": true,
   "sideBar": true,
   "skip_h1_title": false,
   "title_cell": "Table of Contents",
   "title_sidebar": "Contents",
   "toc_cell": false,
   "toc_position": {
    "height": "calc(100% - 180px)",
    "left": "10px",
    "top": "150px",
    "width": "206px"
   },
   "toc_section_display": true,
   "toc_window_display": true
  },
  "varInspector": {
   "cols": {
    "lenName": 16,
    "lenType": 16,
    "lenVar": 40
   },
   "kernels_config": {
    "python": {
     "delete_cmd_postfix": "",
     "delete_cmd_prefix": "del ",
     "library": "var_list.py",
     "varRefreshCmd": "print(var_dic_list())"
    },
    "r": {
     "delete_cmd_postfix": ") ",
     "delete_cmd_prefix": "rm(",
     "library": "var_list.r",
     "varRefreshCmd": "cat(var_dic_list()) "
    }
   },
   "types_to_exclude": [
    "module",
    "function",
    "builtin_function_or_method",
    "instance",
    "_Feature"
   ],
   "window_display": false
  }
 },
 "nbformat": 4,
 "nbformat_minor": 2
}
