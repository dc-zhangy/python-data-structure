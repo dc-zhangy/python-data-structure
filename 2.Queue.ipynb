{
 "cells": [
  {
   "cell_type": "markdown",
   "metadata": {},
   "source": [
    "# 概念\n",
    "**队列（Queue）是一系列有顺序的元素的集合，新元素的加入在队列的一端，这一端叫做“尾”（rear），已有元素的移除发生在队列的另一端，叫做“队首首”（front）。当一个元素被加入到队列之后，它就从队尾开始向队首前进，直到它成为下一个即将被移出队列的元素.**"
   ]
  },
  {
   "cell_type": "markdown",
   "metadata": {},
   "source": [
    "# 队列抽象数据类型\n",
    "- Queue() 创建一个空的新队列。 它不需要参数，并返回一个空队列。\n",
    "- enqueue(item) 将新项添加到队尾。 它需要 item 作为参数，并不返回任何内容。\n",
    "- dequeue() 从队首移除项。它不需要参数并返回 item。 队列被修改。\n",
    "- isEmpty() 查看队列是否为空。它不需要参数，并返回布尔值。\n",
    "- size() 返回队列中的项数。它不需要参数，并返回一个整数。\n",
    "<img src='16.png' style='width:600px;height:300px'>"
   ]
  },
  {
   "cell_type": "markdown",
   "metadata": {},
   "source": [
    "# 队列的实现"
   ]
  },
  {
   "cell_type": "code",
   "execution_count": 3,
   "metadata": {},
   "outputs": [],
   "source": [
    "class Queue:\n",
    "    def __init__(self):\n",
    "        self.items=[]\n",
    "    def isEmpty(self):\n",
    "        return self.items==[]\n",
    "    def enqueue(self,item):\n",
    "        self.items.insert(0,item)\n",
    "    def size(self):\n",
    "        return len(self.items)\n",
    "    def dequeue(self):\n",
    "        self.items.pop()\n",
    "        \n"
   ]
  },
  {
   "cell_type": "markdown",
   "metadata": {},
   "source": [
    "# 队列的应用\n",
    "## 约瑟夫环问题\n",
    "**编号为1到n的n个人围成一圈，第一个人开始从1开始报数，报到数字m的人出局，一直重复下去，问最后剩下的是那个人。**"
   ]
  },
  {
   "cell_type": "code",
   "execution_count": 21,
   "metadata": {},
   "outputs": [
    {
     "name": "stdout",
     "output_type": "stream",
     "text": [
      "26\n"
     ]
    }
   ],
   "source": [
    "def lastone(n,m):\n",
    "    a=list(range(1,n+1))\n",
    "    while len(a)>1:\n",
    "        for i in range(1,m+1):\n",
    "            a.append(a[0])\n",
    "            a.pop(0)\n",
    "        a.pop()\n",
    "    return a[0]\n",
    "            \n",
    "print(lastone(100,10))"
   ]
  },
  {
   "cell_type": "code",
   "execution_count": 22,
   "metadata": {},
   "outputs": [
    {
     "name": "stdout",
     "output_type": "stream",
     "text": [
      "26\n"
     ]
    }
   ],
   "source": [
    "from pythonds.basic.queue import Queue\n",
    "def last(n,m):\n",
    "    q=Queue()\n",
    "    for i in range(1,n+1):\n",
    "        q.enqueue(i)\n",
    "    while q.size()>1:\n",
    "        for j in range(1,m):\n",
    "           q.enqueue(q.dequeue())\n",
    "        q.dequeue()\n",
    "    return q.dequeue()\n",
    "print(last(100,10))      "
   ]
  },
  {
   "cell_type": "code",
   "execution_count": 13,
   "metadata": {},
   "outputs": [
    {
     "data": {
      "text/plain": [
       "[10, 4]"
      ]
     },
     "execution_count": 13,
     "metadata": {},
     "output_type": "execute_result"
    }
   ],
   "source": [
    "a=list(range(1,11))\n",
    "\n",
    "while len(a)>=3:\n",
    "    a=a[3:]+a[:2]\n",
    "a"
   ]
  },
  {
   "cell_type": "code",
   "execution_count": 12,
   "metadata": {},
   "outputs": [
    {
     "data": {
      "text/plain": [
       "[4, 5, 6, 7, 8, 9, 10, 1, 2]"
      ]
     },
     "execution_count": 12,
     "metadata": {},
     "output_type": "execute_result"
    }
   ],
   "source": [
    "a[3:]+a[:2]"
   ]
  },
  {
   "cell_type": "code",
   "execution_count": null,
   "metadata": {},
   "outputs": [],
   "source": []
  }
 ],
 "metadata": {
  "kernelspec": {
   "display_name": "Python 3",
   "language": "python",
   "name": "python3"
  },
  "language_info": {
   "codemirror_mode": {
    "name": "ipython",
    "version": 3
   },
   "file_extension": ".py",
   "mimetype": "text/x-python",
   "name": "python",
   "nbconvert_exporter": "python",
   "pygments_lexer": "ipython3",
   "version": "3.7.3"
  },
  "toc": {
   "base_numbering": 1,
   "nav_menu": {},
   "number_sections": true,
   "sideBar": true,
   "skip_h1_title": false,
   "title_cell": "Table of Contents",
   "title_sidebar": "Contents",
   "toc_cell": false,
   "toc_position": {},
   "toc_section_display": true,
   "toc_window_display": false
  },
  "varInspector": {
   "cols": {
    "lenName": 16,
    "lenType": 16,
    "lenVar": 40
   },
   "kernels_config": {
    "python": {
     "delete_cmd_postfix": "",
     "delete_cmd_prefix": "del ",
     "library": "var_list.py",
     "varRefreshCmd": "print(var_dic_list())"
    },
    "r": {
     "delete_cmd_postfix": ") ",
     "delete_cmd_prefix": "rm(",
     "library": "var_list.r",
     "varRefreshCmd": "cat(var_dic_list()) "
    }
   },
   "types_to_exclude": [
    "module",
    "function",
    "builtin_function_or_method",
    "instance",
    "_Feature"
   ],
   "window_display": false
  }
 },
 "nbformat": 4,
 "nbformat_minor": 2
}
