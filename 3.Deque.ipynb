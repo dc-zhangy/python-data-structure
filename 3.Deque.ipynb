{
 "cells": [
  {
   "cell_type": "markdown",
   "metadata": {},
   "source": [
    "# 概念\n",
    "  **双端队列（deque 或 double-ended queue）与队列类似，也是一系列元素的有序组合。其两端称为队首（front）和队尾（rear），元素在到达两端之前始终位于双端队列中。与队列不同的是，双端队列对元素添加和删除的限制不那么严格，元素可以从两端插入，也可以从两端删除。可以说，双端队列这种混合的线性数据结构拥有栈和队列各自拥有的所有功能。**\n"
   ]
  },
  {
   "cell_type": "markdown",
   "metadata": {},
   "source": [
    "# 抽象数据类型\n",
    "- Deque() 创建一个空的新 deque。它不需要参数，并返回空的 deque。\n",
    "- addFront(item) 将一个新项添加到 deque 的首部。它需要 item 参数 并不返回任何内容。\n",
    "- addRear(item) 将一个新项添加到 deque 的尾部。它需要 item 参数并不返回任何内容。\n",
    "- removeFront() 从 deque 中删除首项。它不需要参数并返回 item。deque 被修改。\n",
    "- removeRear() 从 deque 中删除尾项。它不需要参数并返回 item。deque 被修改。\n",
    "- isEmpty() 测试 deque 是否为空。它不需要参数，并返回布尔值。\n",
    "- size() 返回 deque 中的项数。它不需要参数，并返回一个整数。\n",
    "<img src='17.png' style='width:600px,height:300px'>"
   ]
  },
  {
   "cell_type": "markdown",
   "metadata": {},
   "source": [
    "# 双端队列的实现"
   ]
  },
  {
   "cell_type": "code",
   "execution_count": 2,
   "metadata": {},
   "outputs": [],
   "source": [
    "class Deque:\n",
    "    def __init__(self):\n",
    "        self.items=[]\n",
    "    def isEmpty(self):\n",
    "        return self.items==[]\n",
    "    def size(self):\n",
    "        return len(self.items)\n",
    "    def addRear(self,item):\n",
    "        self.items.insert(0,item)\n",
    "    def addFront(self,item):\n",
    "        self.items.append(item)\n",
    "    def removeRear(self,items):\n",
    "        self.items.pop(0)\n",
    "    def removeFront(self,items):\n",
    "        self.items.pop()"
   ]
  },
  {
   "cell_type": "markdown",
   "metadata": {},
   "source": [
    "# 双端队列的应用\n",
    "## 回文检查"
   ]
  },
  {
   "cell_type": "code",
   "execution_count": 3,
   "metadata": {},
   "outputs": [
    {
     "name": "stdout",
     "output_type": "stream",
     "text": [
      "False\n",
      "True\n"
     ]
    }
   ],
   "source": [
    "from pythonds.basic.deque import Deque\n",
    "def palchecker(aString):\n",
    "    chardeque = Deque()\n",
    "    for ch in aString:\n",
    "        chardeque.addRear(ch)\n",
    "        stillEqual = True\n",
    "    while chardeque.size() > 1 and stillEqual:\n",
    "           first = chardeque.removeFront()\n",
    "           last = chardeque.removeRear()\n",
    "           if first != last:\n",
    "               stillEqual = False\n",
    "    return stillEqual\n",
    "print(palchecker(\"lsdkjfskf\"))\n",
    "print(palchecker(\"radar\"))"
   ]
  },
  {
   "cell_type": "code",
   "execution_count": null,
   "metadata": {},
   "outputs": [],
   "source": []
  }
 ],
 "metadata": {
  "kernelspec": {
   "display_name": "Python 3",
   "language": "python",
   "name": "python3"
  },
  "language_info": {
   "codemirror_mode": {
    "name": "ipython",
    "version": 3
   },
   "file_extension": ".py",
   "mimetype": "text/x-python",
   "name": "python",
   "nbconvert_exporter": "python",
   "pygments_lexer": "ipython3",
   "version": "3.7.3"
  },
  "toc": {
   "base_numbering": 1,
   "nav_menu": {},
   "number_sections": true,
   "sideBar": true,
   "skip_h1_title": false,
   "title_cell": "Table of Contents",
   "title_sidebar": "Contents",
   "toc_cell": false,
   "toc_position": {},
   "toc_section_display": true,
   "toc_window_display": false
  },
  "varInspector": {
   "cols": {
    "lenName": 16,
    "lenType": 16,
    "lenVar": 40
   },
   "kernels_config": {
    "python": {
     "delete_cmd_postfix": "",
     "delete_cmd_prefix": "del ",
     "library": "var_list.py",
     "varRefreshCmd": "print(var_dic_list())"
    },
    "r": {
     "delete_cmd_postfix": ") ",
     "delete_cmd_prefix": "rm(",
     "library": "var_list.r",
     "varRefreshCmd": "cat(var_dic_list()) "
    }
   },
   "types_to_exclude": [
    "module",
    "function",
    "builtin_function_or_method",
    "instance",
    "_Feature"
   ],
   "window_display": false
  }
 },
 "nbformat": 4,
 "nbformat_minor": 2
}
